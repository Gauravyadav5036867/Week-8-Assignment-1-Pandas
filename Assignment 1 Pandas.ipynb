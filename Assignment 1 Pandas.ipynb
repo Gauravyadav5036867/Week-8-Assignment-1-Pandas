{
 "cells": [
  {
   "cell_type": "code",
   "execution_count": 7,
   "id": "daf8c61b-8f7b-4a69-b764-54cd5837d361",
   "metadata": {},
   "outputs": [
    {
     "name": "stdout",
     "output_type": "stream",
     "text": [
      "0     4\n",
      "1     8\n",
      "2    15\n",
      "3    16\n",
      "4    23\n",
      "5    42\n",
      "dtype: int64\n"
     ]
    }
   ],
   "source": [
    "#Question 1\n",
    "import pandas as pd\n",
    "\n",
    "data = [4, 8, 15, 16, 23,42]\n",
    "series = pd.Series(data)\n",
    "print(series)"
   ]
  },
  {
   "cell_type": "code",
   "execution_count": 10,
   "id": "d2e0df6d-5708-40cf-9fcf-e90f8161939a",
   "metadata": {},
   "outputs": [
    {
     "name": "stdout",
     "output_type": "stream",
     "text": [
      "0     1\n",
      "1     2\n",
      "2    34\n",
      "3     4\n",
      "4     5\n",
      "5     6\n",
      "6     7\n",
      "7     8\n",
      "8     9\n",
      "9    10\n",
      "dtype: int64\n"
     ]
    }
   ],
   "source": [
    "#Question 2\n",
    "\n",
    "import pandas as pd\n",
    "data_list = [1,2,34,4,5,6,7,8,9,10]\n",
    "series = pd.Series(data_list)\n",
    "print(series)"
   ]
  },
  {
   "cell_type": "code",
   "execution_count": 13,
   "id": "d65ed1df-8330-4501-aba0-5adc0660876c",
   "metadata": {},
   "outputs": [
    {
     "name": "stdout",
     "output_type": "stream",
     "text": [
      "     Name  Age  Gender\n",
      "0   Alice   25  Female\n",
      "1     Bob   30    Male\n",
      "2  Claire   27  Female\n"
     ]
    }
   ],
   "source": [
    "#Question 3\n",
    "\n",
    "import pandas as pd \n",
    "data = {'Name' : ['Alice' , 'Bob' , 'Claire'] , 'Age' : [25 , 30, 27] , 'Gender' : ['Female' , 'Male' , 'Female']}\n",
    "df = pd.DataFrame(data)\n",
    "print(df)"
   ]
  },
  {
   "cell_type": "code",
   "execution_count": null,
   "id": "484a0986-2b53-46cc-8a7c-bb64f8b71840",
   "metadata": {},
   "outputs": [],
   "source": [
    "#Question 4\n",
    "\n",
    " A DataFrame is a 2-dimensional labeled data structure with columns of potentially different data types. It is similar to a spreadsheet or SQL table, where each column can have a different type (e.g., numeric, string, boolean) and each row represents a unique observation or record.\n",
    "    \n",
    "    \n",
    "    import pandas as pd \n",
    "data = {'Name' : ['Alice' , 'Bob' , 'Claire'] , 'Age' : [25 , 30, 27] , 'Gender' : ['Female' , 'Male' , 'Female']}\n",
    "df = pd.DataFrame(data)\n",
    "print(df)"
   ]
  },
  {
   "cell_type": "code",
   "execution_count": null,
   "id": "391abf8c-4ea5-4820-842f-54e635e9aed0",
   "metadata": {},
   "outputs": [],
   "source": [
    "#Question 5\n",
    "\n",
    "`read_csv()`: Load data from a CSV file.\n",
    "`fillna()`: Replace missing values in a DataFrame.\n",
    "`mean()`: Calculate the mean of a Series or DataFrame.\n",
    "`std()`: Calculate the standard deviation of a Series or DataFrame."
   ]
  },
  {
   "cell_type": "code",
   "execution_count": null,
   "id": "c51090aa-ee57-4270-9792-d87c8db78ced",
   "metadata": {},
   "outputs": [],
   "source": [
    "#Question 6\n",
    "\n"
   ]
  }
 ],
 "metadata": {
  "kernelspec": {
   "display_name": "Python 3 (ipykernel)",
   "language": "python",
   "name": "python3"
  },
  "language_info": {
   "codemirror_mode": {
    "name": "ipython",
    "version": 3
   },
   "file_extension": ".py",
   "mimetype": "text/x-python",
   "name": "python",
   "nbconvert_exporter": "python",
   "pygments_lexer": "ipython3",
   "version": "3.10.8"
  }
 },
 "nbformat": 4,
 "nbformat_minor": 5
}
